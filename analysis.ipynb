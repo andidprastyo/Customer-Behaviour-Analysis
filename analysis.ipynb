{
 "cells": [
  {
   "cell_type": "markdown",
   "metadata": {},
   "source": [
    "### Import Necessary Libraries"
   ]
  },
  {
   "cell_type": "code",
   "execution_count": 1,
   "metadata": {},
   "outputs": [],
   "source": [
    "import pandas as pd \n",
    "import numpy as np \n",
    "import matplotlib.pyplot as plt\n",
    "import seaborn as sns \n",
    "import statistics as st "
   ]
  },
  {
   "cell_type": "markdown",
   "metadata": {},
   "source": [
    "### Load Data"
   ]
  },
  {
   "cell_type": "code",
   "execution_count": 2,
   "metadata": {},
   "outputs": [
    {
     "data": {
      "text/html": [
       "<div>\n",
       "<style scoped>\n",
       "    .dataframe tbody tr th:only-of-type {\n",
       "        vertical-align: middle;\n",
       "    }\n",
       "\n",
       "    .dataframe tbody tr th {\n",
       "        vertical-align: top;\n",
       "    }\n",
       "\n",
       "    .dataframe thead th {\n",
       "        text-align: right;\n",
       "    }\n",
       "</style>\n",
       "<table border=\"1\" class=\"dataframe\">\n",
       "  <thead>\n",
       "    <tr style=\"text-align: right;\">\n",
       "      <th></th>\n",
       "      <th>Timestamp</th>\n",
       "      <th>age</th>\n",
       "      <th>Gender</th>\n",
       "      <th>Purchase_Frequency</th>\n",
       "      <th>Purchase_Categories</th>\n",
       "      <th>Personalized_Recommendation_Frequency</th>\n",
       "      <th>Browsing_Frequency</th>\n",
       "      <th>Product_Search_Method</th>\n",
       "      <th>Search_Result_Exploration</th>\n",
       "      <th>Customer_Reviews_Importance</th>\n",
       "      <th>...</th>\n",
       "      <th>Saveforlater_Frequency</th>\n",
       "      <th>Review_Left</th>\n",
       "      <th>Review_Reliability</th>\n",
       "      <th>Review_Helpfulness</th>\n",
       "      <th>Personalized_Recommendation_Frequency</th>\n",
       "      <th>Recommendation_Helpfulness</th>\n",
       "      <th>Rating_Accuracy</th>\n",
       "      <th>Shopping_Satisfaction</th>\n",
       "      <th>Service_Appreciation</th>\n",
       "      <th>Improvement_Areas</th>\n",
       "    </tr>\n",
       "  </thead>\n",
       "  <tbody>\n",
       "    <tr>\n",
       "      <th>0</th>\n",
       "      <td>2023/06/04 1:28:19 PM GMT+5:30</td>\n",
       "      <td>23</td>\n",
       "      <td>Female</td>\n",
       "      <td>Few times a month</td>\n",
       "      <td>Beauty and Personal Care</td>\n",
       "      <td>Yes</td>\n",
       "      <td>Few times a week</td>\n",
       "      <td>Keyword</td>\n",
       "      <td>Multiple pages</td>\n",
       "      <td>1</td>\n",
       "      <td>...</td>\n",
       "      <td>Sometimes</td>\n",
       "      <td>Yes</td>\n",
       "      <td>Occasionally</td>\n",
       "      <td>Yes</td>\n",
       "      <td>2</td>\n",
       "      <td>Yes</td>\n",
       "      <td>1</td>\n",
       "      <td>1</td>\n",
       "      <td>Competitive prices</td>\n",
       "      <td>Reducing packaging waste</td>\n",
       "    </tr>\n",
       "    <tr>\n",
       "      <th>1</th>\n",
       "      <td>2023/06/04 2:30:44 PM GMT+5:30</td>\n",
       "      <td>23</td>\n",
       "      <td>Female</td>\n",
       "      <td>Once a month</td>\n",
       "      <td>Clothing and Fashion</td>\n",
       "      <td>Yes</td>\n",
       "      <td>Few times a month</td>\n",
       "      <td>Keyword</td>\n",
       "      <td>Multiple pages</td>\n",
       "      <td>1</td>\n",
       "      <td>...</td>\n",
       "      <td>Rarely</td>\n",
       "      <td>No</td>\n",
       "      <td>Heavily</td>\n",
       "      <td>Yes</td>\n",
       "      <td>2</td>\n",
       "      <td>Sometimes</td>\n",
       "      <td>3</td>\n",
       "      <td>2</td>\n",
       "      <td>Wide product selection</td>\n",
       "      <td>Reducing packaging waste</td>\n",
       "    </tr>\n",
       "    <tr>\n",
       "      <th>2</th>\n",
       "      <td>2023/06/04 5:04:56 PM GMT+5:30</td>\n",
       "      <td>24</td>\n",
       "      <td>Prefer not to say</td>\n",
       "      <td>Few times a month</td>\n",
       "      <td>Groceries and Gourmet Food;Clothing and Fashion</td>\n",
       "      <td>No</td>\n",
       "      <td>Few times a month</td>\n",
       "      <td>Keyword</td>\n",
       "      <td>Multiple pages</td>\n",
       "      <td>2</td>\n",
       "      <td>...</td>\n",
       "      <td>Rarely</td>\n",
       "      <td>No</td>\n",
       "      <td>Occasionally</td>\n",
       "      <td>No</td>\n",
       "      <td>4</td>\n",
       "      <td>No</td>\n",
       "      <td>3</td>\n",
       "      <td>3</td>\n",
       "      <td>Competitive prices</td>\n",
       "      <td>Product quality and accuracy</td>\n",
       "    </tr>\n",
       "    <tr>\n",
       "      <th>3</th>\n",
       "      <td>2023/06/04 5:13:00 PM GMT+5:30</td>\n",
       "      <td>24</td>\n",
       "      <td>Female</td>\n",
       "      <td>Once a month</td>\n",
       "      <td>Beauty and Personal Care;Clothing and Fashion;...</td>\n",
       "      <td>Sometimes</td>\n",
       "      <td>Few times a month</td>\n",
       "      <td>Keyword</td>\n",
       "      <td>First page</td>\n",
       "      <td>5</td>\n",
       "      <td>...</td>\n",
       "      <td>Sometimes</td>\n",
       "      <td>Yes</td>\n",
       "      <td>Heavily</td>\n",
       "      <td>Yes</td>\n",
       "      <td>3</td>\n",
       "      <td>Sometimes</td>\n",
       "      <td>3</td>\n",
       "      <td>4</td>\n",
       "      <td>Competitive prices</td>\n",
       "      <td>Product quality and accuracy</td>\n",
       "    </tr>\n",
       "    <tr>\n",
       "      <th>4</th>\n",
       "      <td>2023/06/04 5:28:06 PM GMT+5:30</td>\n",
       "      <td>22</td>\n",
       "      <td>Female</td>\n",
       "      <td>Less than once a month</td>\n",
       "      <td>Beauty and Personal Care;Clothing and Fashion</td>\n",
       "      <td>Yes</td>\n",
       "      <td>Few times a month</td>\n",
       "      <td>Filter</td>\n",
       "      <td>Multiple pages</td>\n",
       "      <td>1</td>\n",
       "      <td>...</td>\n",
       "      <td>Rarely</td>\n",
       "      <td>No</td>\n",
       "      <td>Heavily</td>\n",
       "      <td>Yes</td>\n",
       "      <td>4</td>\n",
       "      <td>Yes</td>\n",
       "      <td>2</td>\n",
       "      <td>2</td>\n",
       "      <td>Competitive prices</td>\n",
       "      <td>Product quality and accuracy</td>\n",
       "    </tr>\n",
       "  </tbody>\n",
       "</table>\n",
       "<p>5 rows × 23 columns</p>\n",
       "</div>"
      ],
      "text/plain": [
       "                        Timestamp  age             Gender  \\\n",
       "0  2023/06/04 1:28:19 PM GMT+5:30   23             Female   \n",
       "1  2023/06/04 2:30:44 PM GMT+5:30   23             Female   \n",
       "2  2023/06/04 5:04:56 PM GMT+5:30   24  Prefer not to say   \n",
       "3  2023/06/04 5:13:00 PM GMT+5:30   24             Female   \n",
       "4  2023/06/04 5:28:06 PM GMT+5:30   22             Female   \n",
       "\n",
       "       Purchase_Frequency                                Purchase_Categories  \\\n",
       "0       Few times a month                           Beauty and Personal Care   \n",
       "1            Once a month                               Clothing and Fashion   \n",
       "2       Few times a month    Groceries and Gourmet Food;Clothing and Fashion   \n",
       "3            Once a month  Beauty and Personal Care;Clothing and Fashion;...   \n",
       "4  Less than once a month      Beauty and Personal Care;Clothing and Fashion   \n",
       "\n",
       "  Personalized_Recommendation_Frequency Browsing_Frequency  \\\n",
       "0                                   Yes   Few times a week   \n",
       "1                                   Yes  Few times a month   \n",
       "2                                    No  Few times a month   \n",
       "3                             Sometimes  Few times a month   \n",
       "4                                   Yes  Few times a month   \n",
       "\n",
       "  Product_Search_Method Search_Result_Exploration  \\\n",
       "0               Keyword            Multiple pages   \n",
       "1               Keyword            Multiple pages   \n",
       "2               Keyword            Multiple pages   \n",
       "3               Keyword                First page   \n",
       "4                Filter            Multiple pages   \n",
       "\n",
       "   Customer_Reviews_Importance  ... Saveforlater_Frequency Review_Left  \\\n",
       "0                            1  ...              Sometimes         Yes   \n",
       "1                            1  ...                 Rarely          No   \n",
       "2                            2  ...                 Rarely          No   \n",
       "3                            5  ...              Sometimes         Yes   \n",
       "4                            1  ...                 Rarely          No   \n",
       "\n",
       "  Review_Reliability Review_Helpfulness  \\\n",
       "0       Occasionally                Yes   \n",
       "1            Heavily                Yes   \n",
       "2       Occasionally                 No   \n",
       "3            Heavily                Yes   \n",
       "4            Heavily                Yes   \n",
       "\n",
       "  Personalized_Recommendation_Frequency  Recommendation_Helpfulness  \\\n",
       "0                                      2                        Yes   \n",
       "1                                      2                  Sometimes   \n",
       "2                                      4                         No   \n",
       "3                                      3                  Sometimes   \n",
       "4                                      4                        Yes   \n",
       "\n",
       "  Rating_Accuracy   Shopping_Satisfaction    Service_Appreciation  \\\n",
       "0                1                      1      Competitive prices   \n",
       "1                3                      2  Wide product selection   \n",
       "2                3                      3      Competitive prices   \n",
       "3                3                      4      Competitive prices   \n",
       "4                2                      2      Competitive prices   \n",
       "\n",
       "              Improvement_Areas  \n",
       "0      Reducing packaging waste  \n",
       "1      Reducing packaging waste  \n",
       "2  Product quality and accuracy  \n",
       "3  Product quality and accuracy  \n",
       "4  Product quality and accuracy  \n",
       "\n",
       "[5 rows x 23 columns]"
      ]
     },
     "execution_count": 2,
     "metadata": {},
     "output_type": "execute_result"
    }
   ],
   "source": [
    "df = pd.read_csv('./amazon_cust.csv')\n",
    "df.head()"
   ]
  },
  {
   "cell_type": "code",
   "execution_count": 3,
   "metadata": {},
   "outputs": [
    {
     "data": {
      "text/plain": [
       "(602, 23)"
      ]
     },
     "execution_count": 3,
     "metadata": {},
     "output_type": "execute_result"
    }
   ],
   "source": [
    "df.shape"
   ]
  },
  {
   "cell_type": "code",
   "execution_count": 4,
   "metadata": {},
   "outputs": [
    {
     "name": "stdout",
     "output_type": "stream",
     "text": [
      "<class 'pandas.core.frame.DataFrame'>\n",
      "RangeIndex: 602 entries, 0 to 601\n",
      "Data columns (total 23 columns):\n",
      " #   Column                                  Non-Null Count  Dtype \n",
      "---  ------                                  --------------  ----- \n",
      " 0   Timestamp                               602 non-null    object\n",
      " 1   age                                     602 non-null    int64 \n",
      " 2   Gender                                  602 non-null    object\n",
      " 3   Purchase_Frequency                      602 non-null    object\n",
      " 4   Purchase_Categories                     602 non-null    object\n",
      " 5   Personalized_Recommendation_Frequency   602 non-null    object\n",
      " 6   Browsing_Frequency                      602 non-null    object\n",
      " 7   Product_Search_Method                   600 non-null    object\n",
      " 8   Search_Result_Exploration               602 non-null    object\n",
      " 9   Customer_Reviews_Importance             602 non-null    int64 \n",
      " 10  Add_to_Cart_Browsing                    602 non-null    object\n",
      " 11  Cart_Completion_Frequency               602 non-null    object\n",
      " 12  Cart_Abandonment_Factors                602 non-null    object\n",
      " 13  Saveforlater_Frequency                  602 non-null    object\n",
      " 14  Review_Left                             602 non-null    object\n",
      " 15  Review_Reliability                      602 non-null    object\n",
      " 16  Review_Helpfulness                      602 non-null    object\n",
      " 17  Personalized_Recommendation_Frequency   602 non-null    int64 \n",
      " 18  Recommendation_Helpfulness              602 non-null    object\n",
      " 19  Rating_Accuracy                         602 non-null    int64 \n",
      " 20  Shopping_Satisfaction                   602 non-null    int64 \n",
      " 21  Service_Appreciation                    602 non-null    object\n",
      " 22  Improvement_Areas                       602 non-null    object\n",
      "dtypes: int64(5), object(18)\n",
      "memory usage: 108.3+ KB\n"
     ]
    }
   ],
   "source": [
    "df.info()"
   ]
  },
  {
   "cell_type": "code",
   "execution_count": 5,
   "metadata": {},
   "outputs": [
    {
     "data": {
      "text/html": [
       "<div>\n",
       "<style scoped>\n",
       "    .dataframe tbody tr th:only-of-type {\n",
       "        vertical-align: middle;\n",
       "    }\n",
       "\n",
       "    .dataframe tbody tr th {\n",
       "        vertical-align: top;\n",
       "    }\n",
       "\n",
       "    .dataframe thead th {\n",
       "        text-align: right;\n",
       "    }\n",
       "</style>\n",
       "<table border=\"1\" class=\"dataframe\">\n",
       "  <thead>\n",
       "    <tr style=\"text-align: right;\">\n",
       "      <th></th>\n",
       "      <th>age</th>\n",
       "      <th>Customer_Reviews_Importance</th>\n",
       "      <th>Personalized_Recommendation_Frequency</th>\n",
       "      <th>Rating_Accuracy</th>\n",
       "      <th>Shopping_Satisfaction</th>\n",
       "    </tr>\n",
       "  </thead>\n",
       "  <tbody>\n",
       "    <tr>\n",
       "      <th>count</th>\n",
       "      <td>602.000000</td>\n",
       "      <td>602.000000</td>\n",
       "      <td>602.000000</td>\n",
       "      <td>602.000000</td>\n",
       "      <td>602.000000</td>\n",
       "    </tr>\n",
       "    <tr>\n",
       "      <th>mean</th>\n",
       "      <td>30.790698</td>\n",
       "      <td>2.480066</td>\n",
       "      <td>2.699336</td>\n",
       "      <td>2.672757</td>\n",
       "      <td>2.463455</td>\n",
       "    </tr>\n",
       "    <tr>\n",
       "      <th>std</th>\n",
       "      <td>10.193276</td>\n",
       "      <td>1.185226</td>\n",
       "      <td>1.042028</td>\n",
       "      <td>0.899744</td>\n",
       "      <td>1.012152</td>\n",
       "    </tr>\n",
       "    <tr>\n",
       "      <th>min</th>\n",
       "      <td>3.000000</td>\n",
       "      <td>1.000000</td>\n",
       "      <td>1.000000</td>\n",
       "      <td>1.000000</td>\n",
       "      <td>1.000000</td>\n",
       "    </tr>\n",
       "    <tr>\n",
       "      <th>25%</th>\n",
       "      <td>23.000000</td>\n",
       "      <td>1.000000</td>\n",
       "      <td>2.000000</td>\n",
       "      <td>2.000000</td>\n",
       "      <td>2.000000</td>\n",
       "    </tr>\n",
       "    <tr>\n",
       "      <th>50%</th>\n",
       "      <td>26.000000</td>\n",
       "      <td>3.000000</td>\n",
       "      <td>3.000000</td>\n",
       "      <td>3.000000</td>\n",
       "      <td>2.000000</td>\n",
       "    </tr>\n",
       "    <tr>\n",
       "      <th>75%</th>\n",
       "      <td>36.000000</td>\n",
       "      <td>3.000000</td>\n",
       "      <td>3.000000</td>\n",
       "      <td>3.000000</td>\n",
       "      <td>3.000000</td>\n",
       "    </tr>\n",
       "    <tr>\n",
       "      <th>max</th>\n",
       "      <td>67.000000</td>\n",
       "      <td>5.000000</td>\n",
       "      <td>5.000000</td>\n",
       "      <td>5.000000</td>\n",
       "      <td>5.000000</td>\n",
       "    </tr>\n",
       "  </tbody>\n",
       "</table>\n",
       "</div>"
      ],
      "text/plain": [
       "              age  Customer_Reviews_Importance  \\\n",
       "count  602.000000                   602.000000   \n",
       "mean    30.790698                     2.480066   \n",
       "std     10.193276                     1.185226   \n",
       "min      3.000000                     1.000000   \n",
       "25%     23.000000                     1.000000   \n",
       "50%     26.000000                     3.000000   \n",
       "75%     36.000000                     3.000000   \n",
       "max     67.000000                     5.000000   \n",
       "\n",
       "       Personalized_Recommendation_Frequency   Rating_Accuracy   \\\n",
       "count                              602.000000        602.000000   \n",
       "mean                                 2.699336          2.672757   \n",
       "std                                  1.042028          0.899744   \n",
       "min                                  1.000000          1.000000   \n",
       "25%                                  2.000000          2.000000   \n",
       "50%                                  3.000000          3.000000   \n",
       "75%                                  3.000000          3.000000   \n",
       "max                                  5.000000          5.000000   \n",
       "\n",
       "       Shopping_Satisfaction  \n",
       "count             602.000000  \n",
       "mean                2.463455  \n",
       "std                 1.012152  \n",
       "min                 1.000000  \n",
       "25%                 2.000000  \n",
       "50%                 2.000000  \n",
       "75%                 3.000000  \n",
       "max                 5.000000  "
      ]
     },
     "execution_count": 5,
     "metadata": {},
     "output_type": "execute_result"
    }
   ],
   "source": [
    "df.describe()"
   ]
  },
  {
   "cell_type": "code",
   "execution_count": 6,
   "metadata": {},
   "outputs": [
    {
     "data": {
      "text/plain": [
       "Timestamp                                 0\n",
       "age                                       0\n",
       "Gender                                    0\n",
       "Purchase_Frequency                        0\n",
       "Purchase_Categories                       0\n",
       "Personalized_Recommendation_Frequency     0\n",
       "Browsing_Frequency                        0\n",
       "Product_Search_Method                     2\n",
       "Search_Result_Exploration                 0\n",
       "Customer_Reviews_Importance               0\n",
       "Add_to_Cart_Browsing                      0\n",
       "Cart_Completion_Frequency                 0\n",
       "Cart_Abandonment_Factors                  0\n",
       "Saveforlater_Frequency                    0\n",
       "Review_Left                               0\n",
       "Review_Reliability                        0\n",
       "Review_Helpfulness                        0\n",
       "Personalized_Recommendation_Frequency     0\n",
       "Recommendation_Helpfulness                0\n",
       "Rating_Accuracy                           0\n",
       "Shopping_Satisfaction                     0\n",
       "Service_Appreciation                      0\n",
       "Improvement_Areas                         0\n",
       "dtype: int64"
      ]
     },
     "execution_count": 6,
     "metadata": {},
     "output_type": "execute_result"
    }
   ],
   "source": [
    "df.isnull().sum()"
   ]
  },
  {
   "cell_type": "code",
   "execution_count": 7,
   "metadata": {},
   "outputs": [],
   "source": [
    "df = df.dropna()"
   ]
  },
  {
   "cell_type": "code",
   "execution_count": 8,
   "metadata": {},
   "outputs": [
    {
     "data": {
      "text/plain": [
       "Timestamp                                 0\n",
       "age                                       0\n",
       "Gender                                    0\n",
       "Purchase_Frequency                        0\n",
       "Purchase_Categories                       0\n",
       "Personalized_Recommendation_Frequency     0\n",
       "Browsing_Frequency                        0\n",
       "Product_Search_Method                     0\n",
       "Search_Result_Exploration                 0\n",
       "Customer_Reviews_Importance               0\n",
       "Add_to_Cart_Browsing                      0\n",
       "Cart_Completion_Frequency                 0\n",
       "Cart_Abandonment_Factors                  0\n",
       "Saveforlater_Frequency                    0\n",
       "Review_Left                               0\n",
       "Review_Reliability                        0\n",
       "Review_Helpfulness                        0\n",
       "Personalized_Recommendation_Frequency     0\n",
       "Recommendation_Helpfulness                0\n",
       "Rating_Accuracy                           0\n",
       "Shopping_Satisfaction                     0\n",
       "Service_Appreciation                      0\n",
       "Improvement_Areas                         0\n",
       "dtype: int64"
      ]
     },
     "execution_count": 8,
     "metadata": {},
     "output_type": "execute_result"
    }
   ],
   "source": [
    "df.isnull().sum()"
   ]
  },
  {
   "cell_type": "code",
   "execution_count": 9,
   "metadata": {},
   "outputs": [],
   "source": [
    "df.drop(['Timestamp'], axis=1, inplace=True)"
   ]
  },
  {
   "cell_type": "code",
   "execution_count": 10,
   "metadata": {},
   "outputs": [
    {
     "name": "stdout",
     "output_type": "stream",
     "text": [
      "<class 'pandas.core.frame.DataFrame'>\n",
      "Index: 600 entries, 0 to 601\n",
      "Data columns (total 22 columns):\n",
      " #   Column                                  Non-Null Count  Dtype \n",
      "---  ------                                  --------------  ----- \n",
      " 0   age                                     600 non-null    int64 \n",
      " 1   Gender                                  600 non-null    object\n",
      " 2   Purchase_Frequency                      600 non-null    object\n",
      " 3   Purchase_Categories                     600 non-null    object\n",
      " 4   Personalized_Recommendation_Frequency   600 non-null    object\n",
      " 5   Browsing_Frequency                      600 non-null    object\n",
      " 6   Product_Search_Method                   600 non-null    object\n",
      " 7   Search_Result_Exploration               600 non-null    object\n",
      " 8   Customer_Reviews_Importance             600 non-null    int64 \n",
      " 9   Add_to_Cart_Browsing                    600 non-null    object\n",
      " 10  Cart_Completion_Frequency               600 non-null    object\n",
      " 11  Cart_Abandonment_Factors                600 non-null    object\n",
      " 12  Saveforlater_Frequency                  600 non-null    object\n",
      " 13  Review_Left                             600 non-null    object\n",
      " 14  Review_Reliability                      600 non-null    object\n",
      " 15  Review_Helpfulness                      600 non-null    object\n",
      " 16  Personalized_Recommendation_Frequency   600 non-null    int64 \n",
      " 17  Recommendation_Helpfulness              600 non-null    object\n",
      " 18  Rating_Accuracy                         600 non-null    int64 \n",
      " 19  Shopping_Satisfaction                   600 non-null    int64 \n",
      " 20  Service_Appreciation                    600 non-null    object\n",
      " 21  Improvement_Areas                       600 non-null    object\n",
      "dtypes: int64(5), object(17)\n",
      "memory usage: 107.8+ KB\n"
     ]
    }
   ],
   "source": [
    "df.info()"
   ]
  },
  {
   "cell_type": "code",
   "execution_count": 16,
   "metadata": {},
   "outputs": [
    {
     "data": {
      "text/plain": [
       "(array([  1.,   3.,  71., 252., 100.,  69.,  66.,  18.,  15.,   5.]),\n",
       " array([ 3. ,  9.4, 15.8, 22.2, 28.6, 35. , 41.4, 47.8, 54.2, 60.6, 67. ]),\n",
       " <BarContainer object of 10 artists>)"
      ]
     },
     "execution_count": 16,
     "metadata": {},
     "output_type": "execute_result"
    },
    {
     "data": {
      "image/png": "[encoded data removed]",
      "text/plain": [
       "<Figure size 640x480 with 1 Axes>"
      ]
     },
     "metadata": {},
     "output_type": "display_data"
    }
   ],
   "source": [
    "plt.hist(data=df, x='age')"
   ]
  },
  {
   "cell_type": "code",
   "execution_count": 17,
   "metadata": {},
   "outputs": [
    {
     "data": {
      "text/plain": [
       "<Axes: xlabel='Cart_Abandonment_Factors', ylabel='count'>"
      ]
     },
     "execution_count": 17,
     "metadata": {},
     "output_type": "execute_result"
    },
    {
     "data": {
      "image/png": "[encoded data removed]",
      "text/plain": [
       "<Figure size 2000x1000 with 1 Axes>"
      ]
     },
     "metadata": {},
     "output_type": "display_data"
    }
   ],
   "source": [
    "plt.figure(figsize=(20,10))\n",
    "sns.countplot(x='Cart_Abandonment_Factors', order = df['Cart_Abandonment_Factors'].value_counts().index[0:-1],palette =['#485769','#232f3e','#f3a847'],data = df)"
   ]
  }
 ],
 "metadata": {
  "kernelspec": {
   "display_name": ".venv",
   "language": "python",
   "name": "python3"
  },
  "language_info": {
   "codemirror_mode": {
    "name": "ipython",
    "version": 3
   },
   "file_extension": ".py",
   "mimetype": "text/x-python",
   "name": "python",
   "nbconvert_exporter": "python",
   "pygments_lexer": "ipython3",
   "version": "3.10.9"
  },
  "orig_nbformat": 4
 },
 "nbformat": 4,
 "nbformat_minor": 2
}
